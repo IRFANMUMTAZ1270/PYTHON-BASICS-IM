{
  "nbformat": 4,
  "nbformat_minor": 0,
  "metadata": {
    "colab": {
      "provenance": []
    },
    "kernelspec": {
      "name": "python3",
      "display_name": "Python 3"
    },
    "language_info": {
      "name": "python"
    }
  },
  "cells": [
    {
      "cell_type": "markdown",
      "source": [
        "#PYTHON BASICS"
      ],
      "metadata": {
        "id": "Mm_moJkNSBtu"
      }
    },
    {
      "cell_type": "markdown",
      "source": [
        "#THEORY ANSWERS:"
      ],
      "metadata": {
        "id": "bh0qqtbtlIaC"
      }
    },
    {
      "cell_type": "markdown",
      "source": [
        "**QUE 01: What is Python and why is it popular?**\n",
        "-\tPython is a formal programming language for creating instructions for computer to follow. And it’s a high-level, general-purpose programming language known for its simplicity which is easy to learn, readability, and versatility. It is widely used in industry and fields like web development, data science, artificial intelligence, automation, Image processing, Robotics, Embeded devices, Software programming, and more like ChatGpt, ML.\n",
        "\n",
        "**QUE 02:Why is Python Popular?**\n",
        "-\tEasy to Learn & Readable: Its syntax is simple and close to natural language.\n",
        "-\tVersatile: Used in web development, AI, automation, data analysis, and manymore mentioned above.\n",
        "-\tLarge Community & Libraries: Extensive libraries (NumPy, TensorFlow, Django, etc.) and strong community support. More than 137000 library it has.\n",
        "-\tCross-Platform: Runs on Windows, Mac, Linux, and more.\n",
        "-\tGreat for Beginners & Experts – Suitable for both new programmers and experienced developers.\n",
        "\n",
        "**QUE 03: What is an Interpreter in Python?**\n",
        "-\tA Python interpreter is a program that executes Python code line by line at runtime, translating it into machine code that the computer can understand. It allows developers to run Python scripts without needing to compile them beforehand.\n",
        "-\tExamples: CPython, PyPy, Jython, IronPython, and MicroPython.\n",
        "\n",
        "**QUE 04: What Are Pre-Defined Keywords in Python?**\n",
        "-\tPre defined keywords or reserved words in Python are special words that have a fixed meaning and cannot be used as variable names, function names, or identifiers.\n",
        "-\t['False', 'None', 'True', 'and', 'as', 'assert', 'async', 'await', 'break', 'class', 'continue', 'def', 'del', 'elif', 'else', 'except', 'finally', 'for', 'from', 'global', 'if', 'import', 'in', 'is', 'lambda', 'nonlocal', 'not', 'or', 'pass', 'raise', 'return', 'try', 'while', 'with', 'yield']\n",
        "\n",
        "**QUE 05: Can Keywords Be Used as Variable Names in Python?**\n",
        "-\tAbsolutely Not, Python keywords cannot be used as variable names because they have predefined meanings in the language. If you try to use a keyword as a variable name, Python will throw a SyntaxError.\n",
        "\n",
        "**QUE 06:What is Mutability in Python?**\n",
        "-\tIn Python, mutability refers to whether an object’s value can be changed after it is created. In other words, you can edit somethings in the container.\n",
        "-\tMutable objects: Can be modified after creation.\n",
        "\n",
        "**QUE 07:Why are lists mutable, but tuples are immutable?**\n",
        "-\tLists are stored in memory as references to elements, allowing modification. You can add, remove, or change elements without creating a new list.\n",
        "-\tBut, Tuples are stored as a fixed structure in memory. Once created, their elements cannot be changed. This makes tuples faster and more memory-efficient than lists.\n",
        "\n",
        "**QUE 08: What is the difference between == and is operators in Python?\"**\n",
        "(==) Equality Operator: Compares values of two objects\n",
        "(Is) Identity Operator: Checks if two objects refer to the same memory location\n",
        "\n",
        "**QUE 09:What are logical operators in Python?**\n",
        "-\tLogical operators are used to combine conditional statements.\n",
        "Operator\tDescription\t\t\t\t\tExample\n",
        "(And):\tReturns True if both conditions are true:\t(5 > 3) and (10 > 5) → \tTrue\n",
        "(Or):\tReturns True if at least one condition is true:\t(5 > 10) or (10 > 5) → \tTrue\n",
        "(not):\tReverses the result (True becomes False):\tnot(5 > 3) → \t\tFalse\n",
        "**What is type casting in Python?**\n",
        "-\tType casting is converting one data type into another. In other words it is the process of changimg the one data type to another like: int to str\n",
        "-\tImplicit Casting: Done automatically by Python.\n",
        "-\tExplicit Casting: Done manually using functions like int(), float(), str().\n",
        "\n",
        "**QUE 10: What is the difference between implicit and explicit type casting?**\n",
        "Type\t        \t\t          Description\t\t\t\t                \tExample\n",
        "Implicit Casting:\t\tPython automatically converts types\tx = 10 + 3.5 (int → float)\n",
        "Explicit Casting:\t\tThe user manually converts types\tx = int(\"10\") (str → int)\n",
        "- Implicit Casting: Python by default converts data types without external efforts.\n",
        "- Explicit Casting: The programmer pr user manually converts data types into another.\n",
        "\n",
        "**QUE 11: What is the purpose of conditional statements in Python?**\n",
        "- Conditional statements allow a program to make decisions based on conditions. Or its helps you to code decision based work on some preconditions.\n",
        "Exam: If, If-else, If-elif-else, and nested If- else\n",
        "\n",
        "**QUE 12: How does the elif statement work?**\n",
        "- The elif statement (else if) is used to check multiple conditions after an if.\n",
        "Exam:\n",
        "if num > 0:\n",
        "    print(\"Positive number\")\n",
        "elif num < 0:\n",
        "    print(\"Negative number\")\n",
        "else:\n",
        "    print(\"Zero\")\n",
        "The elif block runs only if the previous if condition is false. You can use multiple elif blocks in a row.\n",
        "\n",
        "**QUE 13: What is the difference between for and while loops?**\n",
        "For Loop:\n",
        "-\tUse Case: When the number of iterations is known\n",
        "-\tCondition : Iterates over a sequence (list, range, etc.)\n",
        "While Loop::\n",
        "-\tUse Case: When the number of iterations is unknown\n",
        "-\tCondition : Runs until a condition becomes False\n",
        "Example of for loop:\n",
        "for i in range(5)\n",
        "    print(i)\n",
        "Example of while loop:\n",
        "x = 0\n",
        "while x < 5:\n",
        "    print(x)\n",
        "    x += 1\n",
        "**QUE 14: Describe a scenario where a while loop is more suitable than a for loop.**\n",
        "-\tA while loop is better when the number of iterations is unknown.\n",
        "Example: User Login System\n",
        "password = \"secret\"\n",
        "user_input = \"\"\n",
        "while user_input != password:\n",
        "    user_input = input(\"Enter password: \")\n",
        "print(\"Access granted!\")\n",
        "Here, we don't know how many times the user will enter the wrong password, so a while loop is better than a for loop.\n"
      ],
      "metadata": {
        "id": "YHQt2ZGeSSZN"
      }
    },
    {
      "cell_type": "markdown",
      "source": [
        "#PRACTICAL ANSWERS:"
      ],
      "metadata": {
        "id": "DdvCojw3lBLy"
      }
    },
    {
      "cell_type": "code",
      "source": [
        "#Que 01: Write a Python program to print \"Hello, World!\"\n",
        "\n",
        "print(\"Hello, World\")"
      ],
      "metadata": {
        "id": "sjb5mNEIkOx8",
        "outputId": "ebaf760f-f7f2-486b-c47c-faac2d522b0f",
        "colab": {
          "base_uri": "https://localhost:8080/"
        }
      },
      "execution_count": 6,
      "outputs": [
        {
          "output_type": "stream",
          "name": "stdout",
          "text": [
            "Hello, World\n"
          ]
        }
      ]
    },
    {
      "cell_type": "code",
      "source": [
        "#QUE 02: Write a Python program that displays your name and age.\n",
        "name = \"Irfan Mumtaz\"\n",
        "age = \"26 years\"\n",
        "print(\"My name is: \",name, \"and My age is: \", age)"
      ],
      "metadata": {
        "colab": {
          "base_uri": "https://localhost:8080/"
        },
        "id": "SkD5xtEEk86z",
        "outputId": "9eb908c5-9970-4302-852e-77a784088403"
      },
      "execution_count": 15,
      "outputs": [
        {
          "output_type": "stream",
          "name": "stdout",
          "text": [
            "My name is:  Irfan Mumtaz and My age is:  26 years\n"
          ]
        }
      ]
    },
    {
      "cell_type": "code",
      "source": [
        "# QUE 03: Write code to print all the pre-defined keywords in Python using the keyword library.\n",
        "import keyword\n",
        "print(keyword.kwlist)"
      ],
      "metadata": {
        "colab": {
          "base_uri": "https://localhost:8080/"
        },
        "id": "E5JNDPyrmWQl",
        "outputId": "52f736ca-4f9b-4e61-9d80-62503483c820"
      },
      "execution_count": 16,
      "outputs": [
        {
          "output_type": "stream",
          "name": "stdout",
          "text": [
            "['False', 'None', 'True', 'and', 'as', 'assert', 'async', 'await', 'break', 'class', 'continue', 'def', 'del', 'elif', 'else', 'except', 'finally', 'for', 'from', 'global', 'if', 'import', 'in', 'is', 'lambda', 'nonlocal', 'not', 'or', 'pass', 'raise', 'return', 'try', 'while', 'with', 'yield']\n"
          ]
        }
      ]
    },
    {
      "cell_type": "code",
      "source": [
        "# QUE 04: Write a program that checks if a given word is a Python keyword.\n",
        "import keyword\n",
        "\n",
        "a = input(\"Enter a word: \")\n",
        "\n",
        "if keyword.iskeyword(a):\n",
        "    print(\"Yes\", a, \"is a Python keyword.\")\n",
        "else:\n",
        "    print(\"No\", a, \"is not a Python keyword.\")"
      ],
      "metadata": {
        "colab": {
          "base_uri": "https://localhost:8080/"
        },
        "id": "ynpzOzcGmjCl",
        "outputId": "1be264bd-1c4d-4b32-d5c8-87b8333ed0b4"
      },
      "execution_count": 23,
      "outputs": [
        {
          "output_type": "stream",
          "name": "stdout",
          "text": [
            "Enter a word: ok\n",
            "No ok is not a Python keyword.\n"
          ]
        }
      ]
    },
    {
      "cell_type": "code",
      "source": [
        "#QUE 05: Create a list and a tuple in Python, and demonstrate how attempting to change an element works differently for each.\n",
        "\n",
        "# Creating a list (Which is mutable)\n",
        "my_list = [1, 2, 3]\n",
        "my_list[0] = 10  #[0] index = 1 and its going to change to the 10.\n",
        "print(\"New Modified List:\", my_list)\n",
        "\n",
        "# Creating a tuple (immutable)\n",
        "my_tuple = (1, 2, 3)\n",
        "my_tuple[0] = 10  # ❌ This will cause an error because tuple is an immutable"
      ],
      "metadata": {
        "colab": {
          "base_uri": "https://localhost:8080/",
          "height": 193
        },
        "id": "mp6viu7QnnwU",
        "outputId": "1f9c91f0-1b29-465d-acfc-5fc34b585a3b"
      },
      "execution_count": 27,
      "outputs": [
        {
          "output_type": "stream",
          "name": "stdout",
          "text": [
            "New Modified List: [10, 2, 3]\n"
          ]
        },
        {
          "output_type": "error",
          "ename": "TypeError",
          "evalue": "'tuple' object does not support item assignment",
          "traceback": [
            "\u001b[0;31m---------------------------------------------------------------------------\u001b[0m",
            "\u001b[0;31mTypeError\u001b[0m                                 Traceback (most recent call last)",
            "\u001b[0;32m<ipython-input-27-23af46ecf052>\u001b[0m in \u001b[0;36m<cell line: 0>\u001b[0;34m()\u001b[0m\n\u001b[1;32m      7\u001b[0m \u001b[0;31m# Creating a tuple (immutable)\u001b[0m\u001b[0;34m\u001b[0m\u001b[0;34m\u001b[0m\u001b[0m\n\u001b[1;32m      8\u001b[0m \u001b[0mmy_tuple\u001b[0m \u001b[0;34m=\u001b[0m \u001b[0;34m(\u001b[0m\u001b[0;36m1\u001b[0m\u001b[0;34m,\u001b[0m \u001b[0;36m2\u001b[0m\u001b[0;34m,\u001b[0m \u001b[0;36m3\u001b[0m\u001b[0;34m)\u001b[0m\u001b[0;34m\u001b[0m\u001b[0;34m\u001b[0m\u001b[0m\n\u001b[0;32m----> 9\u001b[0;31m \u001b[0mmy_tuple\u001b[0m\u001b[0;34m[\u001b[0m\u001b[0;36m0\u001b[0m\u001b[0;34m]\u001b[0m \u001b[0;34m=\u001b[0m \u001b[0;36m10\u001b[0m  \u001b[0;31m# ❌ This will cause an error because tuple is an immutable\u001b[0m\u001b[0;34m\u001b[0m\u001b[0;34m\u001b[0m\u001b[0m\n\u001b[0m",
            "\u001b[0;31mTypeError\u001b[0m: 'tuple' object does not support item assignment"
          ]
        }
      ]
    },
    {
      "cell_type": "code",
      "source": [
        "#Que 06: Write a function to demonstrate the behavior of mutable and immutable arguments.\n",
        "\n",
        "def modify_data(num, lst):\n",
        "    num += 1  # Immutable (doesn't change original value)\n",
        "    lst.append(45)  # Mutable (modifies original list)\n",
        "\n",
        "x = 10\n",
        "y = [1, 2, 3]\n",
        "\n",
        "modify_data(x, y)\n",
        "print(\"Number:\", x)  # Output: 10 (unchanged)\n",
        "print(\"List:\", y)  # Output: [1, 2, 3, 4] (changed)\n",
        "#Integers (immutable) which is remain unchanged, while lists (mutable) then get modified."
      ],
      "metadata": {
        "colab": {
          "base_uri": "https://localhost:8080/"
        },
        "id": "b0pVToHKogh2",
        "outputId": "6f594037-5a56-4a0b-ea8a-edfa8c6b870e"
      },
      "execution_count": 29,
      "outputs": [
        {
          "output_type": "stream",
          "name": "stdout",
          "text": [
            "Number: 10\n",
            "List: [1, 2, 3, 45]\n"
          ]
        }
      ]
    },
    {
      "cell_type": "code",
      "source": [
        "#Que 07: Write a program to demonstrate the use of logical operators.\n",
        "\n",
        "a = 10\n",
        "b = 20\n",
        "c = 30\n",
        "\n",
        "print(a < b and b < c)  # True\n",
        "print(a > b or b < c)   # True\n",
        "print(not (a > b))      # True"
      ],
      "metadata": {
        "colab": {
          "base_uri": "https://localhost:8080/"
        },
        "id": "T2UrwXHcpKKg",
        "outputId": "a1cde160-49c8-4c93-c80a-28bf87e98a74"
      },
      "execution_count": 30,
      "outputs": [
        {
          "output_type": "stream",
          "name": "stdout",
          "text": [
            "True\n",
            "True\n",
            "True\n"
          ]
        }
      ]
    },
    {
      "cell_type": "code",
      "source": [
        "#Que 08: Write a Python program to convert user input from string to integer, float, and boolean types.\n",
        "\n",
        "user_input = input(\"Enter a number: \")\n",
        "\n",
        "int_val = int(user_input)\n",
        "float_val = float(user_input)\n",
        "bool_val = bool(int(user_input))  # Converts to boolean\n",
        "\n",
        "print(\"Integer:\", int_val)\n",
        "print(\"Float:\", float_val)\n",
        "print(\"Boolean:\", bool_val)"
      ],
      "metadata": {
        "colab": {
          "base_uri": "https://localhost:8080/"
        },
        "id": "CHvIF00rplJ0",
        "outputId": "253d6337-320c-4511-9a1b-07b2842b9bab"
      },
      "execution_count": 35,
      "outputs": [
        {
          "output_type": "stream",
          "name": "stdout",
          "text": [
            "Enter a number: -1\n",
            "Integer: -1\n",
            "Float: -1.0\n",
            "Boolean: True\n"
          ]
        }
      ]
    },
    {
      "cell_type": "code",
      "source": [
        "#Que 09: Write code to demonstrate type casting with list elements.\n",
        "\n",
        "str_list = [\"1\", \"2\", \"3\", \"4\"]\n",
        "int_list = list(map(int, str_list))  # Convert all elements to integers\n",
        "print(int_list)  # Output: [1, 2, 3, 4] all are in integer"
      ],
      "metadata": {
        "colab": {
          "base_uri": "https://localhost:8080/"
        },
        "id": "chDCgLO2qJmq",
        "outputId": "ebef019e-8fb9-4dc1-9bba-731d3f1fe8cd"
      },
      "execution_count": 36,
      "outputs": [
        {
          "output_type": "stream",
          "name": "stdout",
          "text": [
            "[1, 2, 3, 4]\n"
          ]
        }
      ]
    },
    {
      "cell_type": "code",
      "source": [
        "#Que 10: Write a program that checks if a number is positive, negative, or zero.\n",
        "\n",
        "num = int(input(\"Enter a number: \"))\n",
        "\n",
        "if num > 0:\n",
        "    print(\"Positive number\")\n",
        "elif num < 0:\n",
        "    print(\"Negative number\")\n",
        "else:\n",
        "    print(\"Zero\")"
      ],
      "metadata": {
        "colab": {
          "base_uri": "https://localhost:8080/"
        },
        "id": "AgS-ks46qbeU",
        "outputId": "12d66ee5-7283-429b-d3ae-c9eeee201537"
      },
      "execution_count": 38,
      "outputs": [
        {
          "output_type": "stream",
          "name": "stdout",
          "text": [
            "Enter a number: -1\n",
            "Negative number\n"
          ]
        }
      ]
    },
    {
      "cell_type": "code",
      "source": [
        "#Que 11: Write a for loop to print numbers from 1 to 100.\n",
        "\n",
        "for i in range(1, 101):\n",
        "    print(i, end=\" \")"
      ],
      "metadata": {
        "colab": {
          "base_uri": "https://localhost:8080/"
        },
        "id": "EvlGCJenqvwB",
        "outputId": "7ad95727-3f09-454e-8a3f-6217d2d38220"
      },
      "execution_count": 39,
      "outputs": [
        {
          "output_type": "stream",
          "name": "stdout",
          "text": [
            "1 2 3 4 5 6 7 8 9 10 11 12 13 14 15 16 17 18 19 20 21 22 23 24 25 26 27 28 29 30 31 32 33 34 35 36 37 38 39 40 41 42 43 44 45 46 47 48 49 50 51 52 53 54 55 56 57 58 59 60 61 62 63 64 65 66 67 68 69 70 71 72 73 74 75 76 77 78 79 80 81 82 83 84 85 86 87 88 89 90 91 92 93 94 95 96 97 98 99 100 "
          ]
        }
      ]
    },
    {
      "cell_type": "code",
      "source": [
        "#Que 12: Write a Python program to find the sum of all even numbers between 1 and 500.\n",
        "\n",
        "total = sum(i for i in range(1, 501) if i % 2 == 0)\n",
        "print(\"Sum of even numbers:\", total)"
      ],
      "metadata": {
        "colab": {
          "base_uri": "https://localhost:8080/"
        },
        "id": "DYUXqolgrARK",
        "outputId": "e58e4176-8174-46aa-8d8a-df77b7edf085"
      },
      "execution_count": 40,
      "outputs": [
        {
          "output_type": "stream",
          "name": "stdout",
          "text": [
            "Sum of even numbers: 62750\n"
          ]
        }
      ]
    },
    {
      "cell_type": "code",
      "source": [
        "#Que 13: Write a program to reverse a string using a while loop.\n",
        "\n",
        "s = input(\"Enter a string: \")\n",
        "reversed_s = \"\"\n",
        "i = len(s) - 1\n",
        "\n",
        "while i >= 0:\n",
        "    reversed_s += s[i]\n",
        "    i -= 1\n",
        "\n",
        "print(\"Reversed String:\", reversed_s)"
      ],
      "metadata": {
        "colab": {
          "base_uri": "https://localhost:8080/"
        },
        "id": "as6NeEizrTwj",
        "outputId": "0803ce3d-91bf-4025-e4f4-8d818f94c2f8"
      },
      "execution_count": 41,
      "outputs": [
        {
          "output_type": "stream",
          "name": "stdout",
          "text": [
            "Enter a string: irfan\n",
            "Reversed String: nafri\n"
          ]
        }
      ]
    },
    {
      "cell_type": "code",
      "source": [
        "#Que 14: Write a Python program to calculate the factorial of a number provided by the user using a while loop.\n",
        "\n",
        "num = int(input(\"Enter a number: \"))\n",
        "factorial = 1\n",
        "i = num\n",
        "\n",
        "while i > 0:\n",
        "    factorial *= i\n",
        "    i -= 1\n",
        "\n",
        "print(\"Factorial of\", num, \"is\", factorial)"
      ],
      "metadata": {
        "colab": {
          "base_uri": "https://localhost:8080/"
        },
        "id": "M5Ra0iHar3TA",
        "outputId": "9e5d47da-cd22-4275-cdb7-1cd627eb2a0e"
      },
      "execution_count": 42,
      "outputs": [
        {
          "output_type": "stream",
          "name": "stdout",
          "text": [
            "Enter a number: 5\n",
            "Factorial of 5 is 120\n"
          ]
        }
      ]
    }
  ]
}